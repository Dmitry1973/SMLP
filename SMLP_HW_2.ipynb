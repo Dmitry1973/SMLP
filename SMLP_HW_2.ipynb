{
 "cells": [
  {
   "cell_type": "markdown",
   "metadata": {},
   "source": [
    "1.Напишите функцию, которая возвращает сумму двух вещественных аргументов a и b, а к ней декоратор, который делает так, чтобы возвращаемое значение функцией было по модулю 5."
   ]
  },
  {
   "cell_type": "code",
   "execution_count": 27,
   "metadata": {},
   "outputs": [],
   "source": [
    "def my_dec(function):\n",
    "    def my_wrapper(*args):\n",
    "        result = function(*args) % 5\n",
    "        return result\n",
    "    return my_wrapper"
   ]
  },
  {
   "cell_type": "code",
   "execution_count": 39,
   "metadata": {},
   "outputs": [
    {
     "name": "stdout",
     "output_type": "stream",
     "text": [
      "3\n",
      "2\n"
     ]
    }
   ],
   "source": [
    "@my_dec\n",
    "def my_sum(a=4,b=3):\n",
    "    return a + b\n",
    "\n",
    "print (my_sum(4,9))\n",
    "print (my_sum())"
   ]
  },
  {
   "cell_type": "markdown",
   "metadata": {},
   "source": [
    "2.Попробуйте описать своими словами основные отличия SMOTE от ADASYN, ознакомившись с документацией к ним."
   ]
  },
  {
   "cell_type": "markdown",
   "metadata": {},
   "source": [
    "из документации следует, что математический алгоритм генерации новых \"образцов\" у них одинаковый (KNN),  \n",
    "SMOTE - случайным образом выбирает все возможные x_i.  \n",
    "ADASIN - количество генерируемых \"образцов\" для кажджого x_i пропорционально количеству \"образцов\", которые не пренадлежат классу, что и x_i. Где правило ближайшего соседа не соблюдается, будет сгенерировано больше \"образцов\".  \n",
    "кататак\n"
   ]
  }
 ],
 "metadata": {
  "kernelspec": {
   "display_name": "Python 3",
   "language": "python",
   "name": "python3"
  },
  "language_info": {
   "codemirror_mode": {
    "name": "ipython",
    "version": 3
   },
   "file_extension": ".py",
   "mimetype": "text/x-python",
   "name": "python",
   "nbconvert_exporter": "python",
   "pygments_lexer": "ipython3",
   "version": "3.7.4"
  }
 },
 "nbformat": 4,
 "nbformat_minor": 2
}
